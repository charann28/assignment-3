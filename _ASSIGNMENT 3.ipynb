{
 "cells": [
  {
   "cell_type": "code",
   "execution_count": null,
   "id": "3bd1210c",
   "metadata": {},
   "outputs": [],
   "source": [
    "1. Why are functions advantageous to have in your programs?\n",
    "ANSWER:\n",
    "    Functions avoid rewriting the same logic or code again and again in a program.we can use the functions for multiple times after writing\n",
    "     for once and we can use functions created by other coders which makes coding easy. \n"
   ]
  },
  {
   "cell_type": "code",
   "execution_count": null,
   "id": "060653f7",
   "metadata": {},
   "outputs": [],
   "source": [
    "2. When does the code in a function run: when its specified or when its called?\n",
    "    ANSWER:\n",
    "        FUNCTIONS run when its called otherwise the code which is written in the functions will not excecute\n",
    "        we need to call the function using the name of the function."
   ]
  },
  {
   "cell_type": "code",
   "execution_count": null,
   "id": "8bcad39c",
   "metadata": {},
   "outputs": [],
   "source": [
    "3. What statement creates a function?\n",
    "ANSWER:\n",
    "    def statement is used to create a function.\n",
    "    ex:def add_(a,b):\n",
    "            return (a+b)"
   ]
  },
  {
   "cell_type": "code",
   "execution_count": null,
   "id": "f49e6962",
   "metadata": {},
   "outputs": [],
   "source": [
    "4. What is the difference between a function and a function call?\n",
    "ANSWER:\n",
    "    function contains a block of code which need to be executed in order to get the required operation done.\n",
    "    function call is nothing but calling the function by its given function name in order to execute the code which stored in the function to get the required output..\n",
    "    ex:def add_(a,b):\n",
    "            return (a+b) #this is function\n",
    "        add_(3,4) # function call"
   ]
  },
  {
   "cell_type": "code",
   "execution_count": null,
   "id": "80e0f8c1",
   "metadata": {},
   "outputs": [],
   "source": [
    "5. How many global scopes are there in a Python program? How many local scopes?\n",
    "ANSWER:\n",
    "    There are two active scopes in python they are local and global scopes\n",
    "    Variables that are defined inside a function body have a local scope, \n",
    "    and those defined outside have a global scope.\n",
    "    ex:\n",
    "        a=10\n",
    "        def add_(c,a):\n",
    "            a=5\n",
    "            return(c+a)\n",
    "        a=10 #global variable\n",
    "        a=5 #local variable"
   ]
  },
  {
   "cell_type": "code",
   "execution_count": null,
   "id": "bd17390f",
   "metadata": {},
   "outputs": [],
   "source": [
    "6. What happens to variables in a local scope when the function call returns?\n",
    "ANSWER:\n",
    "    when the function call returns the local varibales in the function they will be deleted.\n"
   ]
  },
  {
   "cell_type": "code",
   "execution_count": null,
   "id": "b435c64e",
   "metadata": {},
   "outputs": [],
   "source": [
    "7. What is the concept of a return value? Is it possible to have a return value in an expression?\n",
    "ANSWER:\n",
    "A return statement is used to end the execution of the function call and “returns” the result.\n",
    "A Python function will always have a return value."
   ]
  },
  {
   "cell_type": "code",
   "execution_count": null,
   "id": "01cb23fe",
   "metadata": {},
   "outputs": [],
   "source": [
    "8. If a function does not have a return statement, what is the return value of a call to that function?\n",
    "ANSWER:\n",
    "If a function doesn't specify a return value,then it returns None.it will return a default value for you. That default return value will always be None. "
   ]
  },
  {
   "cell_type": "code",
   "execution_count": null,
   "id": "0d6203be",
   "metadata": {},
   "outputs": [],
   "source": [
    "9. How do you make a function variable refer to the global variable?\n",
    "ANSWER:\n",
    "    Normally, when you create a variable inside a function, that variable is local, and can only be used inside that function. To create a global variable inside a function, you can use the global keyword."
   ]
  },
  {
   "cell_type": "code",
   "execution_count": null,
   "id": "407c44f4",
   "metadata": {},
   "outputs": [],
   "source": [
    "10. What is the data type of None?\n",
    "ANSWER:\n",
    "     The None keyword is used to define a null value, or no value at all.and it is same as 0,empty string,false."
   ]
  },
  {
   "cell_type": "code",
   "execution_count": null,
   "id": "58d93fec",
   "metadata": {},
   "outputs": [],
   "source": [
    "11. What does the sentence import areallyourpetsnamederic do?\n",
    "ANSWER:\n",
    "    That import statement imports a module named areallyourpetsnamederic. "
   ]
  },
  {
   "cell_type": "code",
   "execution_count": null,
   "id": "11f39e73",
   "metadata": {},
   "outputs": [],
   "source": [
    "12. If you had a bacon() feature in a spam module, what would you call it after importing spam?\n",
    "ANSWER:\n",
    "    we can call the function by spam.bacon(). "
   ]
  },
  {
   "cell_type": "code",
   "execution_count": null,
   "id": "395ee898",
   "metadata": {},
   "outputs": [],
   "source": [
    "13. What can you do to save a programme from crashing if it encounters an error?\n",
    "ANSWER:\n",
    "    we can force stop the app to save a program from crashing.\n",
    "    we can also use try clause."
   ]
  },
  {
   "cell_type": "code",
   "execution_count": null,
   "id": "f3e1d7fa",
   "metadata": {},
   "outputs": [],
   "source": [
    "14. What is the purpose of the try clause? What is the purpose of the except clause?\n",
    "ANSWER:\n",
    "    The code that could cause an error goes in the try clause.\n",
    "    The code that executes if an error happens goes in the except clause."
   ]
  }
 ],
 "metadata": {
  "kernelspec": {
   "display_name": "Python 3 (ipykernel)",
   "language": "python",
   "name": "python3"
  },
  "language_info": {
   "codemirror_mode": {
    "name": "ipython",
    "version": 3
   },
   "file_extension": ".py",
   "mimetype": "text/x-python",
   "name": "python",
   "nbconvert_exporter": "python",
   "pygments_lexer": "ipython3",
   "version": "3.9.13"
  }
 },
 "nbformat": 4,
 "nbformat_minor": 5
}
